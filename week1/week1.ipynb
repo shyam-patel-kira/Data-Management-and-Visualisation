{
 "cells": [
  {
   "cell_type": "markdown",
   "metadata": {},
   "source": [
    "# my research question  for the data visualization course ."
   ]
  },
  {
   "cell_type": "markdown",
   "metadata": {},
   "source": [
    "### 1 - selecting a data set \n",
    "##### after checking the 5 code books the most the one that I ’m most interested in  working with is the National Epidemiologic Survey on Alcohol and Related  Conditions “NESARC” data set"
   ]
  },
  {
   "cell_type": "markdown",
   "metadata": {},
   "source": [
    "### 2 - the research questions and Hypotheses. \n",
    "\n",
    "## Q1\n",
    "\n",
    "### by using the variables (MARITAL → CURRENT MARITAL STATUS, S1Q4A→AGE AT FIRST MARRIAGE , S1Q6A→ HIGHEST GRADE OR YEAR OF SCHOOL COMPLETED) \n",
    "### from the “NESARC” data set I want to see if the low educated people are more likely to marry at a younger age than those who have a higher educated  \n",
    "\n",
    "## Q2\n",
    "### by using the variables (MARITAL → CURRENT MARITAL STATUS, S1Q4A→AGE AT FIRST MARRIAGE , S1Q4B→ HOW FIRST MARRIAGE ENDED)  i’m interested in seeing if  people who marry at a young age are more likely to be Divorced than the people who marry at a older age "
   ]
  },
  {
   "cell_type": "markdown",
   "metadata": {},
   "source": [
    "### Q3 \n",
    "\n"
   ]
  },
  {
   "cell_type": "markdown",
   "metadata": {},
   "source": [
    "### 3 -  literature review  .\n",
    "\n",
    "#####  Those who marry young face significant hurdles, including impediments to their educational attainment  and the long-term success of their marriage\n",
    "##### data used -> National Longitudinal Study of Adolescent Health (N = 14,165)\n",
    "\" https://www.ncbi.nlm.nih.gov/pmc/articles/PMC2841346/\" {\n",
    "ncbi (National Center for Biotechnology Information)\n",
    "Early Marriage in the United States\n",
    "Jeremy E. Uecker and Charles E. Stokes\n",
    "}\n",
    "\n",
    "#### marrying early is detrimental to the educational attainments of women but of little or no consequence for men. We also demonstrate that formulations of the age at marriage-educational attainment relationship similar to those employed in other studies would have led to quite different conclusions.\n",
    "##### data used -> \n",
    "\"https://www.jstor.org/stable/2778542?seq=1#page_scan_tab_contents\" -> {\n",
    "Estimating the Effects of Marriage Timing on Educational Attainment: Some Procedural Issues and Substantive Clarifications\n",
    "Karl L. Alexander and Thomas W. Reilly\n",
    "American Journal of Sociology }\n",
    "\n",
    "\n",
    "\n"
   ]
  }
 ],
 "metadata": {
  "anaconda-cloud": {},
  "kernelspec": {
   "display_name": "Python [Root]",
   "language": "python",
   "name": "Python [Root]"
  },
  "language_info": {
   "codemirror_mode": {
    "name": "ipython",
    "version": 3
   },
   "file_extension": ".py",
   "mimetype": "text/x-python",
   "name": "python",
   "nbconvert_exporter": "python",
   "pygments_lexer": "ipython3",
   "version": "3.5.2"
  }
 },
 "nbformat": 4,
 "nbformat_minor": 0
}
