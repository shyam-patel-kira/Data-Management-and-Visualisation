{
 "cells": [
  {
   "cell_type": "code",
   "execution_count": 1,
   "metadata": {
    "collapsed": true
   },
   "outputs": [],
   "source": [
    "import pandas as pd\n",
    "import numpy as np\n",
    "import os\n",
    "import matplotlib.pyplot as plt \n",
    "import seaborn"
   ]
  },
  {
   "cell_type": "markdown",
   "metadata": {},
   "source": [
    "### read data and pickle it all "
   ]
  },
  {
   "cell_type": "code",
   "execution_count": 2,
   "metadata": {
    "collapsed": true
   },
   "outputs": [],
   "source": [
    "#this function reads data from csv file \n",
    "def read_data():\n",
    "    data = pd.read_csv('/home/data-sci/Desktop/analysis/course/nesarc_pds.csv',low_memory=False)\n",
    "                          \n",
    "    return data"
   ]
  },
  {
   "cell_type": "code",
   "execution_count": 3,
   "metadata": {
    "collapsed": true
   },
   "outputs": [],
   "source": [
    "#this function saves the data in a pickle \"binary\" file so it's faster to deal with it next time we run the script \n",
    "def pickle_data(data):\n",
    "    data.to_pickle('cleaned_data.pickle')\n",
    "\n",
    "#this function reads data from the binary .pickle file \n",
    "def get_pickle():\n",
    "    return pd.read_pickle('cleaned_data.pickle')\n"
   ]
  },
  {
   "cell_type": "code",
   "execution_count": 4,
   "metadata": {
    "collapsed": false
   },
   "outputs": [],
   "source": [
    "def the_data():\n",
    "    \"\"\"this function will check and read the data from the pickle file if not fond\n",
    "    it will read the csv file then pickle it\"\"\"\n",
    "    if os.path.isfile('cleaned_data.pickle'):\n",
    "        data = get_pickle()\n",
    "\n",
    "    else:\n",
    "        data = read_data()\n",
    "        pickle_data(data)\n",
    "    return data"
   ]
  },
  {
   "cell_type": "code",
   "execution_count": 20,
   "metadata": {
    "collapsed": false
   },
   "outputs": [],
   "source": [
    "data = the_data()"
   ]
  },
  {
   "cell_type": "code",
   "execution_count": 21,
   "metadata": {
    "collapsed": false
   },
   "outputs": [
    {
     "data": {
      "text/plain": [
       "(43093, 3008)"
      ]
     },
     "execution_count": 21,
     "metadata": {},
     "output_type": "execute_result"
    }
   ],
   "source": [
    "data.shape"
   ]
  },
  {
   "cell_type": "code",
   "execution_count": 22,
   "metadata": {
    "collapsed": false
   },
   "outputs": [
    {
     "data": {
      "text/html": [
       "<div>\n",
       "<table border=\"1\" class=\"dataframe\">\n",
       "  <thead>\n",
       "    <tr style=\"text-align: right;\">\n",
       "      <th></th>\n",
       "      <th>ETHRACE2A</th>\n",
       "      <th>ETOTLCA2</th>\n",
       "      <th>IDNUM</th>\n",
       "      <th>PSU</th>\n",
       "      <th>STRATUM</th>\n",
       "      <th>WEIGHT</th>\n",
       "      <th>CDAY</th>\n",
       "      <th>CMON</th>\n",
       "      <th>CYEAR</th>\n",
       "      <th>REGION</th>\n",
       "      <th>...</th>\n",
       "      <th>SOL12ABDEP</th>\n",
       "      <th>SOLP12ABDEP</th>\n",
       "      <th>HAL12ABDEP</th>\n",
       "      <th>HALP12ABDEP</th>\n",
       "      <th>MAR12ABDEP</th>\n",
       "      <th>MARP12ABDEP</th>\n",
       "      <th>HER12ABDEP</th>\n",
       "      <th>HERP12ABDEP</th>\n",
       "      <th>OTHB12ABDEP</th>\n",
       "      <th>OTHBP12ABDEP</th>\n",
       "    </tr>\n",
       "  </thead>\n",
       "  <tbody>\n",
       "    <tr>\n",
       "      <th>0</th>\n",
       "      <td>5</td>\n",
       "      <td></td>\n",
       "      <td>1</td>\n",
       "      <td>4007</td>\n",
       "      <td>403</td>\n",
       "      <td>3928.613505</td>\n",
       "      <td>14</td>\n",
       "      <td>8</td>\n",
       "      <td>2001</td>\n",
       "      <td>4</td>\n",
       "      <td>...</td>\n",
       "      <td>0</td>\n",
       "      <td>0</td>\n",
       "      <td>0</td>\n",
       "      <td>0</td>\n",
       "      <td>0</td>\n",
       "      <td>0</td>\n",
       "      <td>0</td>\n",
       "      <td>0</td>\n",
       "      <td>0</td>\n",
       "      <td>0</td>\n",
       "    </tr>\n",
       "    <tr>\n",
       "      <th>1</th>\n",
       "      <td>5</td>\n",
       "      <td>0.0014</td>\n",
       "      <td>2</td>\n",
       "      <td>6045</td>\n",
       "      <td>604</td>\n",
       "      <td>3638.691845</td>\n",
       "      <td>12</td>\n",
       "      <td>1</td>\n",
       "      <td>2002</td>\n",
       "      <td>4</td>\n",
       "      <td>...</td>\n",
       "      <td>0</td>\n",
       "      <td>0</td>\n",
       "      <td>0</td>\n",
       "      <td>0</td>\n",
       "      <td>0</td>\n",
       "      <td>0</td>\n",
       "      <td>0</td>\n",
       "      <td>0</td>\n",
       "      <td>0</td>\n",
       "      <td>0</td>\n",
       "    </tr>\n",
       "    <tr>\n",
       "      <th>2</th>\n",
       "      <td>5</td>\n",
       "      <td></td>\n",
       "      <td>3</td>\n",
       "      <td>12042</td>\n",
       "      <td>1218</td>\n",
       "      <td>5779.032025</td>\n",
       "      <td>23</td>\n",
       "      <td>11</td>\n",
       "      <td>2001</td>\n",
       "      <td>3</td>\n",
       "      <td>...</td>\n",
       "      <td>0</td>\n",
       "      <td>0</td>\n",
       "      <td>0</td>\n",
       "      <td>0</td>\n",
       "      <td>0</td>\n",
       "      <td>0</td>\n",
       "      <td>0</td>\n",
       "      <td>0</td>\n",
       "      <td>0</td>\n",
       "      <td>0</td>\n",
       "    </tr>\n",
       "    <tr>\n",
       "      <th>3</th>\n",
       "      <td>5</td>\n",
       "      <td></td>\n",
       "      <td>4</td>\n",
       "      <td>17099</td>\n",
       "      <td>1704</td>\n",
       "      <td>1071.754303</td>\n",
       "      <td>9</td>\n",
       "      <td>9</td>\n",
       "      <td>2001</td>\n",
       "      <td>2</td>\n",
       "      <td>...</td>\n",
       "      <td>0</td>\n",
       "      <td>0</td>\n",
       "      <td>0</td>\n",
       "      <td>0</td>\n",
       "      <td>0</td>\n",
       "      <td>0</td>\n",
       "      <td>0</td>\n",
       "      <td>0</td>\n",
       "      <td>0</td>\n",
       "      <td>0</td>\n",
       "    </tr>\n",
       "    <tr>\n",
       "      <th>4</th>\n",
       "      <td>2</td>\n",
       "      <td></td>\n",
       "      <td>5</td>\n",
       "      <td>17099</td>\n",
       "      <td>1704</td>\n",
       "      <td>4986.952377</td>\n",
       "      <td>18</td>\n",
       "      <td>10</td>\n",
       "      <td>2001</td>\n",
       "      <td>2</td>\n",
       "      <td>...</td>\n",
       "      <td>0</td>\n",
       "      <td>0</td>\n",
       "      <td>0</td>\n",
       "      <td>0</td>\n",
       "      <td>0</td>\n",
       "      <td>0</td>\n",
       "      <td>0</td>\n",
       "      <td>0</td>\n",
       "      <td>0</td>\n",
       "      <td>0</td>\n",
       "    </tr>\n",
       "  </tbody>\n",
       "</table>\n",
       "<p>5 rows × 3008 columns</p>\n",
       "</div>"
      ],
      "text/plain": [
       "   ETHRACE2A ETOTLCA2  IDNUM    PSU  STRATUM       WEIGHT  CDAY  CMON  CYEAR  \\\n",
       "0          5               1   4007      403  3928.613505    14     8   2001   \n",
       "1          5   0.0014      2   6045      604  3638.691845    12     1   2002   \n",
       "2          5               3  12042     1218  5779.032025    23    11   2001   \n",
       "3          5               4  17099     1704  1071.754303     9     9   2001   \n",
       "4          2               5  17099     1704  4986.952377    18    10   2001   \n",
       "\n",
       "   REGION      ...       SOL12ABDEP  SOLP12ABDEP  HAL12ABDEP  HALP12ABDEP  \\\n",
       "0       4      ...                0            0           0            0   \n",
       "1       4      ...                0            0           0            0   \n",
       "2       3      ...                0            0           0            0   \n",
       "3       2      ...                0            0           0            0   \n",
       "4       2      ...                0            0           0            0   \n",
       "\n",
       "   MAR12ABDEP  MARP12ABDEP  HER12ABDEP  HERP12ABDEP  OTHB12ABDEP  OTHBP12ABDEP  \n",
       "0           0            0           0            0            0             0  \n",
       "1           0            0           0            0            0             0  \n",
       "2           0            0           0            0            0             0  \n",
       "3           0            0           0            0            0             0  \n",
       "4           0            0           0            0            0             0  \n",
       "\n",
       "[5 rows x 3008 columns]"
      ]
     },
     "execution_count": 22,
     "metadata": {},
     "output_type": "execute_result"
    }
   ],
   "source": [
    "data.head()"
   ]
  },
  {
   "cell_type": "code",
   "execution_count": 102,
   "metadata": {
    "collapsed": false
   },
   "outputs": [],
   "source": [
    "data2 = data[['MARITAL','S1Q4A','AGE','S1Q4B','S1Q6A']]\n",
    "data2 = data2.rename(columns={'MARITAL':'marital','S1Q4A':'age_1st_mar',\n",
    "                      'AGE':'age','S1Q4B':'how_mar_ended','S1Q6A':'edu'})"
   ]
  },
  {
   "cell_type": "code",
   "execution_count": 103,
   "metadata": {
    "collapsed": false
   },
   "outputs": [],
   "source": [
    "#selecting the wanted range of values\n",
    "    #THE RANGE OF WANTED AGES \n",
    "data2['age'] = data2[data2['age'] < 30]\n",
    "    #THE RANGE OF WANTED AGES OF FISRT MARRIEGE \n",
    "#convert to numeric so we can subset the values < 25\n",
    "data2['age_1st_mar'] = pd.to_numeric(data2['age_1st_mar'], errors='ignor')\n"
   ]
  },
  {
   "cell_type": "code",
   "execution_count": 105,
   "metadata": {
    "collapsed": false
   },
   "outputs": [
    {
     "data": {
      "text/plain": [
       "21.0    3473\n",
       "19.0    2999\n",
       "18.0    2944\n",
       "20.0    2889\n",
       "22.0    2652\n",
       "23.0    2427\n",
       "24.0    2071\n",
       "17.0    1249\n",
       "16.0     758\n",
       "15.0     304\n",
       "14.0     150\n",
       "Name: age_1st_mar, dtype: int64"
      ]
     },
     "execution_count": 105,
     "metadata": {},
     "output_type": "execute_result"
    }
   ],
   "source": [
    "data2 = data2[data2['age_1st_mar'] < 25 ]\n",
    "data2.age_1st_mar.value_counts()"
   ]
  },
  {
   "cell_type": "markdown",
   "metadata": {},
   "source": [
    "#### for simplisity will remap the variable edu to have just 4 levels \n",
    "#### below high school education == 0\n",
    "#### high school == 1\n",
    "#### collage == 2\n",
    "#### higher == 3"
   ]
  },
  {
   "cell_type": "code",
   "execution_count": 106,
   "metadata": {
    "collapsed": false
   },
   "outputs": [],
   "source": [
    "edu_remap ={1:0,2:0,3:0,4:0,5:0,6:0,7:0,8:1,9:1,10:1,11:1,12:2,13:2,14:3}\n",
    "data2['edu'] = data2['edu'].map(edu_remap)"
   ]
  },
  {
   "cell_type": "markdown",
   "metadata": {},
   "source": [
    "## print the frquancy of the values "
   ]
  },
  {
   "cell_type": "code",
   "execution_count": 107,
   "metadata": {
    "collapsed": false,
    "scrolled": true
   },
   "outputs": [
    {
     "name": "stdout",
     "output_type": "stream",
     "text": [
      "the count of the values in marital\n",
      "1    13611\n",
      "4     3793\n",
      "3     3183\n",
      "5      977\n",
      "2      352\n",
      "Name: marital, dtype: int64\n",
      "the % of every value in the marital variable  \n",
      "1    0.621053\n",
      "4    0.173070\n",
      "3    0.145236\n",
      "5    0.044579\n",
      "2    0.016061\n",
      "Name: marital, dtype: float64\n",
      "-----------------------------------\n",
      "None\n",
      "the count of the values in age_1st_mar\n",
      "21.0    3473\n",
      "19.0    2999\n",
      "18.0    2944\n",
      "20.0    2889\n",
      "22.0    2652\n",
      "23.0    2427\n",
      "24.0    2071\n",
      "17.0    1249\n",
      "16.0     758\n",
      "15.0     304\n",
      "14.0     150\n",
      "Name: age_1st_mar, dtype: int64\n",
      "the % of every value in the age_1st_mar variable  \n",
      "21.0    0.158469\n",
      "19.0    0.136841\n",
      "18.0    0.134331\n",
      "20.0    0.131822\n",
      "22.0    0.121007\n",
      "23.0    0.110741\n",
      "24.0    0.094497\n",
      "17.0    0.056990\n",
      "16.0    0.034587\n",
      "15.0    0.013871\n",
      "14.0    0.006844\n",
      "Name: age_1st_mar, dtype: float64\n",
      "-----------------------------------\n",
      "None\n",
      "the count of the values in age\n",
      "1.0    1957\n",
      "4.0     207\n",
      "5.0     153\n",
      "2.0      40\n",
      "3.0       7\n",
      "Name: age, dtype: int64\n",
      "the % of every value in the age variable  \n",
      "1.0    0.827834\n",
      "4.0    0.087563\n",
      "5.0    0.064721\n",
      "2.0    0.016920\n",
      "3.0    0.002961\n",
      "Name: age, dtype: float64\n",
      "-----------------------------------\n",
      "None\n",
      "the count of the values in how_mar_ended\n",
      "     10459\n",
      "2     8361\n",
      "1     2933\n",
      "3      154\n",
      "9        9\n",
      "Name: how_mar_ended, dtype: int64\n",
      "the % of every value in the how_mar_ended variable  \n",
      "     0.477231\n",
      "2    0.381502\n",
      "1    0.133829\n",
      "3    0.007027\n",
      "9    0.000411\n",
      "Name: how_mar_ended, dtype: float64\n",
      "-----------------------------------\n",
      "None\n",
      "the count of the values in edu\n",
      "1    13491\n",
      "0     4527\n",
      "2     2688\n",
      "3     1210\n",
      "Name: edu, dtype: int64\n",
      "the % of every value in the edu variable  \n",
      "1    0.615578\n",
      "0    0.206561\n",
      "2    0.122650\n",
      "3    0.055211\n",
      "Name: edu, dtype: float64\n",
      "-----------------------------------\n",
      "None\n"
     ]
    }
   ],
   "source": [
    "def distribution(var_data):\n",
    "    \"\"\"this function will print out the frequency\n",
    "    distribution for every variable in the data-frame   \"\"\"\n",
    "    #var_data = pd.to_numeric(var_data, errors='ignore')\n",
    "    print(\"the count of the values in {}\".format(var_data.name))\n",
    "    print(var_data.value_counts())\n",
    "    print(\"the % of every value in the {} variable  \".format(var_data.name))\n",
    "    print(var_data.value_counts(normalize=True))\n",
    "    print(\"-----------------------------------\")\n",
    "\n",
    "\n",
    "def print_dist():\n",
    "    # this function loops though the variables and print them out\n",
    "    for i in data2.columns:\n",
    "        print(distribution(data2[i]))\n",
    "\n",
    "\n",
    "print_dist()\n"
   ]
  },
  {
   "cell_type": "markdown",
   "metadata": {},
   "source": [
    "##### summery "
   ]
  },
  {
   "cell_type": "code",
   "execution_count": 1,
   "metadata": {
    "collapsed": true
   },
   "outputs": [],
   "source": [
    "# ##### marital status                \n",
    "# Married                0.48 %        |\n",
    "# Living with someone    0.22 %        |\n",
    "# Widowed                0.12 %        |\n",
    "# Divorced               0.1  %        |\n",
    "# Separated              0.03 %        |\n",
    "# Never Married          0.03 %        |\n",
    "#                                      |\n",
    "# -------------------------------------|\n",
    "# -------------------------------------|\n",
    "#                                      |\n",
    "# ##### AGE AT FIRST MARRIAGE FOR THOSE \n",
    "# WHO MARRY UNDER THE AGE OF 25        |\n",
    "# AGE     %                            |\n",
    "# 21    0.15 %                         |\n",
    "# 19    0.13 %                         |\n",
    "# 18    0.13 %                         |\n",
    "# 20    0.13 %                         |\n",
    "# 22    0.12 %                         |\n",
    "# 23    0.11 %                         |\n",
    "# 24    0.09 %                         |\n",
    "# 17    0.05 %                         |\n",
    "# 16    0.03 %                         |\n",
    "# 15    0.01 %                         |\n",
    "# 14    0.00 %                         |\n",
    "#                                      |\n",
    "# -------------------------------------|\n",
    "# -------------------------------------|\n",
    "#                                      |\n",
    "# ##### HOW FIRST MARRIAGE ENDED        \n",
    "# Widowed     0.65 %                   |\n",
    "# Divorced    0.25 %                   |\n",
    "# Other       0.09 %                   |\n",
    "# Unknown     0.004%                   |\n",
    "# Na          0.002%                   |\n",
    "#                                      |\n",
    "# -------------------------------------|\n",
    "# -------------------------------------|\n",
    "#                                      |\n",
    "# ##### education                      \n",
    "# high school               0.58 %     |\n",
    "# lower than high school    0.18 %     |\n",
    "# collage                   0.15 %     |\n",
    "# ms and higher             0.07 %     |\n",
    "#                                      |"
   ]
  },
  {
   "cell_type": "markdown",
   "metadata": {},
   "source": [
    "## 1- recoding unknown values"
   ]
  },
  {
   "cell_type": "markdown",
   "metadata": {},
   "source": [
    "from the variable \"how_mar_ended\" `HOW FIRST MARRIAGE ENDED` will code the `9` value from Unknown to NaN"
   ]
  },
  {
   "cell_type": "code",
   "execution_count": 13,
   "metadata": {
    "collapsed": false
   },
   "outputs": [],
   "source": [
    "data2['how_mar_ended'] = data2['how_mar_ended'].replace(9, np.nan)\n",
    "data2['age_1st_mar'] = data2['age_1st_mar'].replace(99, np.nan)"
   ]
  },
  {
   "cell_type": "code",
   "execution_count": 14,
   "metadata": {
    "collapsed": false
   },
   "outputs": [
    {
     "data": {
      "text/plain": [
       "1     4025\n",
       "9       98\n",
       "3      201\n",
       "2    10803\n",
       "     27966\n",
       "Name: how_mar_ended, dtype: int64"
      ]
     },
     "execution_count": 14,
     "metadata": {},
     "output_type": "execute_result"
    }
   ],
   "source": [
    "data2['how_mar_ended'].value_counts(sort=False, dropna=False)"
   ]
  },
  {
   "cell_type": "code",
   "execution_count": 23,
   "metadata": {
    "collapsed": false
   },
   "outputs": [],
   "source": [
    "#pickle the data tp binary .pickle file \n",
    "pickle_data(data2)"
   ]
  }
 ],
 "metadata": {
  "anaconda-cloud": {},
  "kernelspec": {
   "display_name": "Python [Root]",
   "language": "python",
   "name": "Python [Root]"
  },
  "language_info": {
   "codemirror_mode": {
    "name": "ipython",
    "version": 3
   },
   "file_extension": ".py",
   "mimetype": "text/x-python",
   "name": "python",
   "nbconvert_exporter": "python",
   "pygments_lexer": "ipython3",
   "version": "3.5.2"
  }
 },
 "nbformat": 4,
 "nbformat_minor": 0
}
